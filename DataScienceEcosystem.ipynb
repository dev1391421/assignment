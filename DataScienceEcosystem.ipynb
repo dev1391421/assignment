{
 "cells": [
  {
   "cell_type": "markdown",
   "id": "1db1f5e6-29ca-4ebd-aa60-9780ace22a05",
   "metadata": {},
   "source": [
    "# Data Science Tools and Ecosystem"
   ]
  },
  {
   "cell_type": "markdown",
   "id": "d28d1318-ceb7-4a3b-9887-b85507757729",
   "metadata": {},
   "source": [
    "In this notebook, Data Science Tools and Ecosystem are summarized.\n"
   ]
  },
  {
   "cell_type": "markdown",
   "id": "2c0541e4-e1f6-45b6-b666-d798f703cdec",
   "metadata": {},
   "source": [
    "**Objectives:**\n",
    "\n",
    "- List popular languages for Data Science\n",
    "- List commonly used libraries in Data Science\n",
    "- Identify open-source tools for Data Science development\n",
    "- Convert time from minutes to hours\n"
   ]
  },
  {
   "cell_type": "markdown",
   "id": "66975d27-045a-47fa-a5b8-d58eb42a87ee",
   "metadata": {},
   "source": [
    "Some of the popular languages that Data Scientists use are:\n",
    "\n",
    "1. Python\n",
    "2. R\n",
    "3. SQL\n"
   ]
  },
  {
   "cell_type": "markdown",
   "id": "0d1a578f-1d3b-4428-8045-5f8168925330",
   "metadata": {},
   "source": [
    "Some of the commonly used libraries used by Data Scientists include:\n",
    "\n",
    "1. Pandas\n",
    "2. NumPy\n",
    "3. Scikit-learn\n",
    "4. TensorFlow\n"
   ]
  },
  {
   "cell_type": "markdown",
   "id": "514b0f45-e3c9-4460-a096-48e39b7b2a3b",
   "metadata": {},
   "source": [
    "| Data Science Tools |\n",
    "|--------------------|\n",
    "| Jupyter Notebook   |\n",
    "| RStudio            |\n",
    "| Apache Zeppelin    |\n"
   ]
  },
  {
   "cell_type": "markdown",
   "id": "08896603-1567-4998-9f3f-33e151fb69dc",
   "metadata": {},
   "source": [
    "<h3>Below are a few examples of evaluating arithmetic expressions in Python.</h3>"
   ]
  },
  {
   "cell_type": "code",
   "execution_count": 3,
   "id": "403d28e6-83fc-4e98-8c11-9092d4c891fe",
   "metadata": {},
   "outputs": [
    {
     "data": {
      "text/plain": [
       "17"
      ]
     },
     "execution_count": 3,
     "metadata": {},
     "output_type": "execute_result"
    }
   ],
   "source": [
    "#This a simple arithmetic expression to mutiply then add integers\n",
    "(3*4)+5"
   ]
  },
  {
   "cell_type": "code",
   "execution_count": 4,
   "id": "71071401-b9f3-4b5a-8dd7-050a959791dc",
   "metadata": {},
   "outputs": [
    {
     "name": "stdout",
     "output_type": "stream",
     "text": [
      "3.3333333333333335\n"
     ]
    }
   ],
   "source": [
    "#This will convert 200 minutes to hours by diving by 60\n",
    "minutes = 200\n",
    "hours = minutes / 60\n",
    "print(hours)"
   ]
  },
  {
   "cell_type": "markdown",
   "id": "d938e535-382e-4ef0-a94f-3932807f3cbe",
   "metadata": {},
   "source": [
    "## Author\n",
    "\n",
    "Devender Kumar"
   ]
  },
  {
   "cell_type": "code",
   "execution_count": null,
   "id": "3fa0665f-348c-4a41-8a80-dc63c658bfc3",
   "metadata": {},
   "outputs": [],
   "source": []
  }
 ],
 "metadata": {
  "kernelspec": {
   "display_name": "Python 3 (ipykernel)",
   "language": "python",
   "name": "python3"
  },
  "language_info": {
   "codemirror_mode": {
    "name": "ipython",
    "version": 3
   },
   "file_extension": ".py",
   "mimetype": "text/x-python",
   "name": "python",
   "nbconvert_exporter": "python",
   "pygments_lexer": "ipython3",
   "version": "3.11.9"
  }
 },
 "nbformat": 4,
 "nbformat_minor": 5
}
